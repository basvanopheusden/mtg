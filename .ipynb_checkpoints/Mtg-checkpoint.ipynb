{
 "cells": [
  {
   "cell_type": "code",
   "execution_count": 3,
   "metadata": {},
   "outputs": [
    {
     "ename": "SyntaxError",
     "evalue": "invalid syntax (<ipython-input-3-dbcf7c2d7b60>, line 8)",
     "output_type": "error",
     "traceback": [
      "\u001b[1;36m  File \u001b[1;32m\"<ipython-input-3-dbcf7c2d7b60>\"\u001b[1;36m, line \u001b[1;32m8\u001b[0m\n\u001b[1;33m    from mtg-card-classification import *\u001b[0m\n\u001b[1;37m            ^\u001b[0m\n\u001b[1;31mSyntaxError\u001b[0m\u001b[1;31m:\u001b[0m invalid syntax\n"
     ]
    }
   ],
   "source": [
    "import numpy as np\n",
    "import itertools\n",
    "import scipy.sparse as sparse\n",
    "\n",
    "import matplotlib.pyplot as plt\n",
    "import importlib\n",
    "importlib.reload(mtg-card-classification)\n",
    "from mtg-card-classification import *\n"
   ]
  },
  {
   "cell_type": "code",
   "execution_count": null,
   "metadata": {},
   "outputs": [],
   "source": [
    "direc = 'C:/Users/basvanopheusden/Documents/MTG/'"
   ]
  },
  {
   "cell_type": "code",
   "execution_count": null,
   "metadata": {},
   "outputs": [],
   "source": [
    "#all_cards = load_all_cards(direc)\n",
    "all_cards = pickle_load(direc,'scryfall-all-cards-pickled.txt')"
   ]
  },
  {
   "cell_type": "code",
   "execution_count": null,
   "metadata": {},
   "outputs": [],
   "source": [
    "#filtered_cards = get_filtered_cards(direc,all_cards)\n",
    "filtered_cards = pickle_load(direc,'scryfall-filtered-cards-pickled.txt')"
   ]
  },
  {
   "cell_type": "code",
   "execution_count": null,
   "metadata": {},
   "outputs": [],
   "source": [
    "card = np.random.choice(filtered_cards)\n",
    "art = get_cropped_art(card)\n",
    "plt.imshow(art)\n",
    "plt.show()"
   ]
  },
  {
   "cell_type": "code",
   "execution_count": null,
   "metadata": {},
   "outputs": [],
   "source": [
    "unique_card_names,index,num_reprints = np.unique([c['name'] for c in filtered_cards[::-1]],\n",
    "                                                 return_counts = True,return_index=True)\n",
    "unique_filtered_cards = [filtered_cards[::-1][i] for i in index]\n",
    "len(unique_filtered_cards)"
   ]
  },
  {
   "cell_type": "code",
   "execution_count": null,
   "metadata": {},
   "outputs": [],
   "source": [
    "most_reprinted_cards = np.array(list(zip(unique_card_names,num_reprints)))[np.argsort(num_reprints)[::-1]][:50]"
   ]
  },
  {
   "cell_type": "code",
   "execution_count": null,
   "metadata": {},
   "outputs": [],
   "source": [
    "illegal_cards = list(filter(lambda c: not c['legalities']['vintage'] in ['legal','restricted'], filtered_cards))"
   ]
  },
  {
   "cell_type": "code",
   "execution_count": null,
   "metadata": {},
   "outputs": [],
   "source": [
    "def get_color_asymmetry(f):\n",
    "    if np.sum(f[1:])>0:\n",
    "        return sts.power_divergence(f[1:],(color_counts[1:]/np.sum(color_counts[1:])*np.sum(f[1:])),lambda_ = \"log-likelihood\")\n",
    "    else:\n",
    "        return 0,1"
   ]
  },
  {
   "cell_type": "code",
   "execution_count": null,
   "metadata": {},
   "outputs": [],
   "source": [
    "mono_colors = [['W'],['U'],['B'],['R'],['G']]\n",
    "keys = ['name','power','toughness','type','subtype','manacost','oracletext']\n",
    "m,matching_cards,inds = classify_card_colors_kfold(unique_filtered_cards,keys,10,[])"
   ]
  },
  {
   "cell_type": "code",
   "execution_count": null,
   "metadata": {},
   "outputs": [],
   "source": [
    "most_predictive_features = get_most_predictive_features(m)\n",
    "[(x,y,c) for ((x,y),d,c) in most_predictive_features]"
   ]
  },
  {
   "cell_type": "code",
   "execution_count": null,
   "metadata": {},
   "outputs": [],
   "source": [
    "accuracy = np.mean(m.is_correct)\n",
    "print(accuracy)"
   ]
  },
  {
   "cell_type": "code",
   "execution_count": null,
   "metadata": {},
   "outputs": [],
   "source": [
    "len(inds)"
   ]
  },
  {
   "cell_type": "code",
   "execution_count": null,
   "metadata": {},
   "outputs": [],
   "source": []
  },
  {
   "cell_type": "code",
   "execution_count": null,
   "metadata": {},
   "outputs": [],
   "source": [
    "def plot_predicted_dist(m,i,alpha=1):\n",
    "    plt.bar(np.arange(0,len(m.unique_colors)),m.predicted_color_dists[i,:],alpha=alpha)\n",
    "    plt.xticks(np.arange(0,len(m.unique_colors)),labels=m.unique_colors, rotation=90)\n",
    "    plt.show()\n",
    "\n",
    "def show_classification_info(m,i,show_plot=True):\n",
    "    card = cards[i]\n",
    "    predicted_colors = m.unique_colors[np.argmax(m.predicted_color_dists[i,:])]\n",
    "    \n",
    "    features,importance,intercept = m.get_features_by_importance(i,predicted_colors)\n",
    "    \n",
    "    print('----------------')\n",
    "    print(\"Card:\",card['name'])\n",
    "    print(\"Colors:\",card[\"colors\"])\n",
    "    print(\"Mana cost:\",card['mana_cost'])\n",
    "    print(\"type:\",card[\"type_line\"])\n",
    "    print(\"Predicted colors\",[predicted_colors])\n",
    "    print(\"Confidence:\",m.confidence[i])\n",
    "    print(\"Oracle text:\",card['oracle_text'])\n",
    "    print(\"Intercept:\",intercept)\n",
    "    print(\"Strongest features:\",[(features[k],importance[k]) for k in np.argsort(importance)[::-1] if importance[k]>0][:10])\n",
    "    if show_plot:\n",
    "        plot_predicted_dist(m,i)"
   ]
  },
  {
   "cell_type": "code",
   "execution_count": null,
   "metadata": {},
   "outputs": [],
   "source": [
    "for _ in range(10):\n",
    "    show_classification_info(m,np.random.randint(len(inds)))"
   ]
  },
  {
   "cell_type": "code",
   "execution_count": null,
   "metadata": {},
   "outputs": [],
   "source": [
    "#priority = (1-is_correct)*confidence*np.array(['Land' not in card['type_line'] for card in cards])\n",
    "for color in m.unique_colors:\n",
    "    if len(color)==1:\n",
    "        priority = (m.is_correct==0)*m.confidence*(m.unique_colors[m.predicted_color]==color)#np.array([#get_card_color(card)==color #and len(get_words_in_oracle_text(card))<10 \n",
    "                                          #for card in cards])\n",
    "        ind = np.argsort(priority)[::-1]\n",
    "        for i in ind[:10]:\n",
    "            if priority[i]>0:\n",
    "                show_classification_info(m,i,False)"
   ]
  },
  {
   "cell_type": "code",
   "execution_count": null,
   "metadata": {},
   "outputs": [],
   "source": [
    "num_colors = np.array([len(set(c1)) for c1 in m.card_colors])\n",
    "colors_added = np.array([len(set(c1).difference(set(c2))) for c1,c2 in zip(m.unique_colors[m.predicted_color],m.card_colors)])\n",
    "colors_omitted = np.array([len(set(c2).difference(set(c1))) for c1,c2 in zip(m.unique_colors[m.predicted_color],m.card_colors)])"
   ]
  },
  {
   "cell_type": "code",
   "execution_count": null,
   "metadata": {},
   "outputs": [],
   "source": [
    "sparse.csr_matrix((np.ones_like(colors_added),(num_colors,colors_added+colors_omitted))).toarray()"
   ]
  },
  {
   "cell_type": "code",
   "execution_count": null,
   "metadata": {},
   "outputs": [],
   "source": [
    "show_classification_info(m,get_card_index_by_name(cards,'grizzly bears'))"
   ]
  },
  {
   "cell_type": "code",
   "execution_count": null,
   "metadata": {},
   "outputs": [],
   "source": [
    "def plot_accuracy_by_key(f,keys=None,is_numeric=True,sort_by_count=True,xlabel='',return_values=False):\n",
    "    x = np.array([f(c) for c in cards])\n",
    "    if keys==None:\n",
    "        keys,counts = np.unique(x,return_counts=True)\n",
    "        if sort_by_count:\n",
    "            keys = keys[np.argsort(counts)][::-1]\n",
    "    x_by_key = {key: m.is_correct[np.logical_and(x==key,m.confidence>0)] for key in keys}\n",
    "    y = [np.mean(x) for key,x in x_by_key.items()]\n",
    "    yerr = [np.std(x)/np.sqrt(len(x)) for key,x in x_by_key.items()]\n",
    "    plt.errorbar(x=keys,y=y,yerr=yerr)\n",
    "    plt.xlabel(xlabel)\n",
    "    plt.ylabel('Accuracy')\n",
    "    if not is_numeric:\n",
    "        plt.xticks(np.arange(0,len(keys)),label=keys,rotation=90)\n",
    "    plt.show()\n",
    "    if return_values:\n",
    "        return keys,y,yerr,x_by_key"
   ]
  },
  {
   "cell_type": "code",
   "execution_count": null,
   "metadata": {},
   "outputs": [],
   "source": [
    "#plot_accuracy_by_key(lambda c:c['rarity'],keys=['common','uncommon','rare','mythic'],is_numeric=False)\n",
    "#plot_accuracy_by_key(lambda c:len(get_words_in_oracle_text(c)),sort_by_count=False,xlabel='Number of words in oracle text')\n",
    "#plot_accuracy_by_key(lambda c:c['type_line'].split(' — ')[0],is_numeric=False)\n",
    "keys,y,yerr,x_by_key = plot_accuracy_by_key(lambda c:c['set_name'],is_numeric=False,return_values=True,sort_by_count=False)\n",
    "#plot_accuracy_by_key(lambda c:int(c['released_at'].split('-')[0]),sort_by_count=False,xlabel='Release year')"
   ]
  },
  {
   "cell_type": "code",
   "execution_count": null,
   "metadata": {},
   "outputs": [],
   "source": [
    "list(zip(np.sort(y),keys[np.argsort(y)],[x_by_key[key].shape[0] for key in keys[np.argsort(y)]]))"
   ]
  },
  {
   "cell_type": "code",
   "execution_count": null,
   "metadata": {},
   "outputs": [],
   "source": [
    "colors, confusion = get_confusion_matrix(m)\n",
    "plt.imshow(confusion,cmap='Greens')\n",
    "plt.xticks(np.arange(0,5),labels=colors)\n",
    "plt.yticks(np.arange(0,5),labels=colors)\n",
    "plt.show()\n",
    "\n",
    "plt.imshow(np.triu(confusion,1)+np.tril(confusion,-1),cmap='Greens')\n",
    "plt.xticks(np.arange(0,5),labels=colors)\n",
    "plt.yticks(np.arange(0,5),labels=colors)\n",
    "plt.show()"
   ]
  },
  {
   "cell_type": "code",
   "execution_count": null,
   "metadata": {},
   "outputs": [],
   "source": [
    "(confusion + confusion.T)/2"
   ]
  },
  {
   "cell_type": "code",
   "execution_count": null,
   "metadata": {},
   "outputs": [],
   "source": [
    "p = m.predicted_color_dists\n",
    "\n",
    "JS = np.sum(p[None,:,:]*np.log(p[:,None,:]+p[None,:,:]),axis=2)+np.sum(p[:,None,:]*np.log(p[:,None,:]+p[None,:,:]),axis=2)\n",
    "plt.imshow(JS)\n",
    "plt.show()\n",
    "#X = 1-np.dot(,m.predicted_color_dists.T)"
   ]
  },
  {
   "cell_type": "code",
   "execution_count": null,
   "metadata": {},
   "outputs": [],
   "source": [
    "from sklearn.manifold import TSNE\n"
   ]
  },
  {
   "cell_type": "code",
   "execution_count": null,
   "metadata": {},
   "outputs": [],
   "source": [
    "with open(direc + 'classification_model_5c_pickled.txt','wb') as f:\n",
    "    pickle.dump((m,cards),f)"
   ]
  },
  {
   "cell_type": "code",
   "execution_count": null,
   "metadata": {},
   "outputs": [],
   "source": [
    "u,s,v = np.linalg.svd(p)"
   ]
  },
  {
   "cell_type": "code",
   "execution_count": null,
   "metadata": {},
   "outputs": [],
   "source": [
    "import sklearn\n",
    "X_embedded = sklearn.decomposition.TruncatedSVD(n_components=2).fit_transform(p)\n",
    "N=len(cards)\n",
    "#X_embedded = TSNE(n_components=2).fit_transform(JS[:N,:N])\n",
    "c_dict = {'R' : 'red', 'B' : 'black', 'G' : 'green', 'U' : 'blue', 'W' : 'yellow'}\n",
    "for c in colors:\n",
    "    ind = np.array(m.card_colors)[:N]==c\n",
    "    plt.plot(X_embedded[ind,0],X_embedded[ind,1],'.',color=c_dict[c])"
   ]
  },
  {
   "cell_type": "code",
   "execution_count": null,
   "metadata": {},
   "outputs": [],
   "source": []
  }
 ],
 "metadata": {
  "kernelspec": {
   "display_name": "Python 3",
   "language": "python",
   "name": "python3"
  }
 },
 "nbformat": 4,
 "nbformat_minor": 2
}
